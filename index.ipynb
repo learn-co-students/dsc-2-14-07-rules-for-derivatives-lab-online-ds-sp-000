{
 "cells": [
  {
   "cell_type": "markdown",
   "metadata": {},
   "source": [
    "# Rules for Derivatives - Lab"
   ]
  },
  {
   "cell_type": "markdown",
   "metadata": {},
   "source": [
    "## Introduction"
   ]
  },
  {
   "cell_type": "markdown",
   "metadata": {},
   "source": [
    "In this lab, we will practice implementing the rules for derivatives with code.  This lab will review your understanding of the following rules:\n",
    "\n",
    "1. The power rule\n",
    "2. The constant factor rule\n",
    "3. The addition rule"
   ]
  },
  {
   "cell_type": "markdown",
   "metadata": {},
   "source": [
    "## Objectives\n",
    "\n",
    "You will be able to:\n",
    "\n",
    "- Understand the rules for taking the derivative of each term\n",
    "- Understand how to take the derivative of a function"
   ]
  },
  {
   "cell_type": "markdown",
   "metadata": {},
   "source": [
    "## Let's get started!"
   ]
  },
  {
   "cell_type": "markdown",
   "metadata": {},
   "source": [
    "As you know we can represent polynomial functions as a numpy array in Python: \n",
    "\n",
    "* Each term is represented as a row, for example, $2x^3$ is expressed as `(2, 3)`.\n",
    "* And an entire function is expressed as 2D numpy array, like $f(x)=2x^3+7x$ is expressed as `np.array([[2, 3], [7, 1]])`.\n",
    "* Between columns in our array, we imagine there is a plus sign. To subtract elements we simply place a negative sign before the first element in the row. For example, $f(x)= x^2 - 4x$ is represented as `np.array([[1, 2], [-4, 1]])`. "
   ]
  },
  {
   "cell_type": "markdown",
   "metadata": {},
   "source": [
    "### Writing our derivative functions\n",
    "\n",
    "Let's start by writing a function called `find_term_derivative` that returns the derivative of a single term.  The function takes the derivative of one term represented as an array, say $(1, 3)$, and returns its derivative, also represented as an array.  For example, if the function is $f(x) = 2x^4$ so its derivative is $f'(x) = 8x^3$, then our function `find_term_derivative` should take an input of `(2, 4)` and return `(8, 3)`."
   ]
  },
  {
   "cell_type": "markdown",
   "metadata": {},
   "source": [
    "In writing `find_term_derivative`, let's first consider the function $f(x) = x^3$, and write the function so that it takes the derivative of the term."
   ]
  },
  {
   "cell_type": "code",
   "execution_count": 1,
   "metadata": {},
   "outputs": [
    {
     "data": {
      "text/plain": [
       "array([1, 3])"
      ]
     },
     "execution_count": 1,
     "metadata": {},
     "output_type": "execute_result"
    }
   ],
   "source": [
    "import matplotlib.pyplot as plt\n",
    "%matplotlib inline\n",
    "import numpy as np\n",
    "import seaborn as sns\n",
    "\n",
    "array_cubed_1 = np.array([1, 3])\n",
    "array_cubed_1"
   ]
  },
  {
   "cell_type": "code",
   "execution_count": 2,
   "metadata": {},
   "outputs": [],
   "source": [
    "def find_term_derivative(term):\n",
    "    derivative = np.array([0, 0])\n",
    "    derivative[0] = term[0] * term[1]\n",
    "    derivative[1] = term[1] - 1\n",
    "    return derivative\n",
    "# return something which looks like: np.array([constant, exponent])"
   ]
  },
  {
   "cell_type": "code",
   "execution_count": 3,
   "metadata": {},
   "outputs": [
    {
     "data": {
      "text/plain": [
       "array([3, 2])"
      ]
     },
     "execution_count": 3,
     "metadata": {},
     "output_type": "execute_result"
    }
   ],
   "source": [
    "# use find_term_derivative on array_cubed_1\n",
    "# array([3, 2])\n",
    "find_term_derivative(array_cubed_1)"
   ]
  },
  {
   "cell_type": "markdown",
   "metadata": {},
   "source": [
    "Let's try the function with $f(x) = 2x^2$."
   ]
  },
  {
   "cell_type": "code",
   "execution_count": 4,
   "metadata": {},
   "outputs": [
    {
     "data": {
      "text/plain": [
       "array([4, 1])"
      ]
     },
     "execution_count": 4,
     "metadata": {},
     "output_type": "execute_result"
    }
   ],
   "source": [
    "array_squared = np.array([2, 2])\n",
    "# use find_term_derivative on array_squared\n",
    "find_term_derivative(array_squared)\n",
    "# array([4, 1])"
   ]
  },
  {
   "cell_type": "markdown",
   "metadata": {},
   "source": [
    "Ok, now that we have a Python function called `find_derivative` that can take a derivative of a term, write a function that take as an argument our multi-termed function, and return the derivative of the multi-term function represented as a 2D array. \n",
    "\n",
    "For example, if the derivative of a function $f(x)$ is $f'(x) = 2x^3 + 4x^2$, then the function `find_derivative` should return `[(2, 3), (4, 2)]`.\n",
    "\n",
    "> Imagine that a plus sign separates each of our terms.  Again, if we need a negative term, then we add a minus sign to the first element of the row."
   ]
  },
  {
   "cell_type": "code",
   "execution_count": 5,
   "metadata": {},
   "outputs": [],
   "source": [
    "def find_derivative(function_terms):\n",
    "    derivative_terms = []\n",
    "    for term in function_terms:\n",
    "        derivative_terms.append(find_term_derivative(term))\n",
    "    return np.array(derivative_terms)"
   ]
  },
  {
   "cell_type": "markdown",
   "metadata": {},
   "source": [
    "Let's apply this function to $f(x) = 4x^3 - 3x$."
   ]
  },
  {
   "cell_type": "code",
   "execution_count": 6,
   "metadata": {},
   "outputs": [
    {
     "data": {
      "text/plain": [
       "array([[12,  2],\n",
       "       [-3,  0]])"
      ]
     },
     "execution_count": 6,
     "metadata": {},
     "output_type": "execute_result"
    }
   ],
   "source": [
    "array_cubed_2 = np.array([[4, 3], [-3, 1]])\n",
    "find_derivative(array_cubed_2)\n",
    "# [(12, 2), (-3, 0)]"
   ]
  },
  {
   "cell_type": "markdown",
   "metadata": {},
   "source": [
    "One gotcha to note is when one of our terms is a constant, when taking the derivative, the constant will be equal to 0, while the exponent technically becomes negative (-1).  For example, when $f(x) = 3x^2 - 11$, the derivative $f'(x) = 6x$.  The reason why is because 11 is the same as $11*x^0$ which is also $11*1$, as anything raised to the zero power equals 1. And so the derivative of the term $11x^0$ equals $0*11*x^{-1} = 0$.  Our `find_derivative` function should return a zero for the constant and -1 for the exponent.  Let's store $f(x) = 3x^2 - 11$ in `array_squared_1` and apply `find_derivative` to it."
   ]
  },
  {
   "cell_type": "code",
   "execution_count": 22,
   "metadata": {},
   "outputs": [
    {
     "data": {
      "text/plain": [
       "array([[ 6,  1],\n",
       "       [ 0, -1]])"
      ]
     },
     "execution_count": 22,
     "metadata": {},
     "output_type": "execute_result"
    }
   ],
   "source": [
    "array_squared_1 = np.array([[3, 2], [11, 0]])\n",
    "# use find_derivative on array_squared_1\n",
    "find_derivative(array_squared_1)\n",
    "# array([[6., 1.],\n",
    "#       [0., -1.]])"
   ]
  },
  {
   "cell_type": "markdown",
   "metadata": {},
   "source": [
    "Our next function is called, `derivative_at` which, when provided a list of terms and a value $x$ at which to evaluate the derivative, returns the value of derivative at that point."
   ]
  },
  {
   "cell_type": "code",
   "execution_count": 29,
   "metadata": {},
   "outputs": [],
   "source": [
    "def derivative_at(terms, x):\n",
    "    total = 0\n",
    "    derivative_terms = find_derivative(terms)\n",
    "    for term in derivative_terms:\n",
    "        total += term[0] * float(x) ** term[1]\n",
    "    return total"
   ]
  },
  {
   "cell_type": "code",
   "execution_count": 30,
   "metadata": {},
   "outputs": [
    {
     "data": {
      "text/plain": [
       "array([[ 6,  1],\n",
       "       [ 0, -1]])"
      ]
     },
     "execution_count": 30,
     "metadata": {},
     "output_type": "execute_result"
    }
   ],
   "source": [
    "# apply find_derivative to array_squared_1\n",
    "find_derivative(array_squared_1)\n",
    "# array([[6., 1.],\n",
    "#       [0., -1.]])"
   ]
  },
  {
   "cell_type": "code",
   "execution_count": 31,
   "metadata": {},
   "outputs": [
    {
     "data": {
      "text/plain": [
       "12.0"
      ]
     },
     "execution_count": 31,
     "metadata": {},
     "output_type": "execute_result"
    }
   ],
   "source": [
    "# apply derivative_at to array_squared_1, looking to get the derivative at x=2\n",
    "derivative_at(array_squared_1, 2)\n",
    "# 12"
   ]
  },
  {
   "cell_type": "markdown",
   "metadata": {},
   "source": [
    "### Creating visualizations with our functions\n",
    "\n",
    "Now that we have done the work of calculating the derivatives, we can begin to show the derivatives of functions with matplotlib. We have plotted derivatives previously, but we had to consider $\\Delta x$ to do so.  Notice that with our rules, we no longer need to include $\\Delta x$ as a parameter for our derivative calculating functions.  Similarly, we will not need to include $\\Delta x$ as a parameter for our line tracing functions below.\n",
    "\n",
    "#### Plotting the tangent line\n",
    "\n",
    "First, let's take our `derivative_at` function, and use that in the `tangent_line` function below to display this calculation. The `derivative_at` a point on our function equals the slope of the tangent line, so we use the function to generate a `tangent_line` trace with the function below. You can use the `output_at` which we created in a previous lab in your `tangent_line` function."
   ]
  },
  {
   "cell_type": "code",
   "execution_count": 32,
   "metadata": {},
   "outputs": [],
   "source": [
    "def term_output(term, input_value):\n",
    "    return term[0]*input_value**term[1]\n",
    "\n",
    "def output_at(array_of_terms, x_value):\n",
    "    outputs = []\n",
    "    for i in range(int(np.shape(array_of_terms)[0])):\n",
    "        outputs.append(array_of_terms[i][0]*x_value**array_of_terms[i][1])\n",
    "    return sum(outputs)"
   ]
  },
  {
   "cell_type": "code",
   "execution_count": 33,
   "metadata": {},
   "outputs": [],
   "source": [
    "import numpy as np\n",
    "\n",
    "def tangent_line(list_of_terms, x_value, line_length = 4):\n",
    "    y = output_at(list_of_terms, x_value)\n",
    "    deriv = derivative_at(list_of_terms, x_value)\n",
    "    \n",
    "    x_dev = np.linspace(x_value - line_length/2, x_value + line_length/2, 50)\n",
    "    tan = y + deriv *(x_dev - x_value)\n",
    "    return {'x_dev':x_dev, 'tan':tan, 'lab': \" f' (x) = \" + str(deriv)}"
   ]
  },
  {
   "cell_type": "markdown",
   "metadata": {},
   "source": [
    "Now, let's apply our function `tangent_line` to `array_squared_1`. Let's assume we want a tangent line for $x=5$ and a line length of 6."
   ]
  },
  {
   "cell_type": "code",
   "execution_count": 34,
   "metadata": {},
   "outputs": [
    {
     "data": {
      "text/plain": [
       "{'x_dev': array([2.        , 2.12244898, 2.24489796, 2.36734694, 2.48979592,\n",
       "        2.6122449 , 2.73469388, 2.85714286, 2.97959184, 3.10204082,\n",
       "        3.2244898 , 3.34693878, 3.46938776, 3.59183673, 3.71428571,\n",
       "        3.83673469, 3.95918367, 4.08163265, 4.20408163, 4.32653061,\n",
       "        4.44897959, 4.57142857, 4.69387755, 4.81632653, 4.93877551,\n",
       "        5.06122449, 5.18367347, 5.30612245, 5.42857143, 5.55102041,\n",
       "        5.67346939, 5.79591837, 5.91836735, 6.04081633, 6.16326531,\n",
       "        6.28571429, 6.40816327, 6.53061224, 6.65306122, 6.7755102 ,\n",
       "        6.89795918, 7.02040816, 7.14285714, 7.26530612, 7.3877551 ,\n",
       "        7.51020408, 7.63265306, 7.75510204, 7.87755102, 8.        ]),\n",
       " 'tan': array([ -4.        ,  -0.32653061,   3.34693878,   7.02040816,\n",
       "         10.69387755,  14.36734694,  18.04081633,  21.71428571,\n",
       "         25.3877551 ,  29.06122449,  32.73469388,  36.40816327,\n",
       "         40.08163265,  43.75510204,  47.42857143,  51.10204082,\n",
       "         54.7755102 ,  58.44897959,  62.12244898,  65.79591837,\n",
       "         69.46938776,  73.14285714,  76.81632653,  80.48979592,\n",
       "         84.16326531,  87.83673469,  91.51020408,  95.18367347,\n",
       "         98.85714286, 102.53061224, 106.20408163, 109.87755102,\n",
       "        113.55102041, 117.2244898 , 120.89795918, 124.57142857,\n",
       "        128.24489796, 131.91836735, 135.59183673, 139.26530612,\n",
       "        142.93877551, 146.6122449 , 150.28571429, 153.95918367,\n",
       "        157.63265306, 161.30612245, 164.97959184, 168.65306122,\n",
       "        172.32653061, 176.        ]),\n",
       " 'lab': \" f' (x) = 30.0\"}"
      ]
     },
     "execution_count": 34,
     "metadata": {},
     "output_type": "execute_result"
    }
   ],
   "source": [
    "tan_line = tangent_line(array_squared_1, 5, line_length=6)\n",
    "tan_line"
   ]
  },
  {
   "cell_type": "markdown",
   "metadata": {},
   "source": [
    "Now, let's plot our function $f(x) = 3x^2 + 11$ along with the tangent line for $x=5$"
   ]
  },
  {
   "cell_type": "code",
   "execution_count": 38,
   "metadata": {},
   "outputs": [
    {
     "data": {
      "image/png": "[encoded data removed]",
      "text/plain": [
       "<Figure size 720x432 with 1 Axes>"
      ]
     },
     "metadata": {},
     "output_type": "display_data"
    }
   ],
   "source": [
    "plt.style.use('ggplot')\n",
    "\n",
    "fig, ax = plt.subplots(figsize=(10,6))\n",
    "\n",
    "x_values = np.linspace(-10, 10, 100)\n",
    "y_values = list(map(lambda x: output_at(array_squared_1, x), x_values))\n",
    "\n",
    "plt.plot(x_values, y_values, label = \"3x^2 + 11\")\n",
    "plt.plot(tan_line['x_dev'], tan_line['tan'], color = \"green\", label = tan_line['lab'])\n",
    "\n",
    "ax.legend(loc='upper center', fontsize='large');"
   ]
  },
  {
   "cell_type": "markdown",
   "metadata": {},
   "source": [
    "#### Graphing the derivative across a range of values\n",
    "\n",
    "We can also write a function that given a list of terms can plot the derivative across multiple values. After all, the derivative is just a function. For example, when $f(x) = 3x^2 - 11$, the derivative is $f'(x) = 6x$. Recall that we have our function $f(x) = 3x^2 - 11$ saved in `array_squared_1`."
   ]
  },
  {
   "cell_type": "code",
   "execution_count": 39,
   "metadata": {},
   "outputs": [],
   "source": [
    "array_squared_1 = np.array([[3, 2], [11, 0]])"
   ]
  },
  {
   "cell_type": "markdown",
   "metadata": {},
   "source": [
    "Now, you can use `np.linspace` to generate $x$-values between -10 and 10. Next you can use the `output_at` function and the `derivative_at` function along with lambda functions to generate $f(x)$ and $f'(x)$ respectively."
   ]
  },
  {
   "cell_type": "code",
   "execution_count": 40,
   "metadata": {},
   "outputs": [],
   "source": [
    "x_values = np.linspace(-10, 10, 100)\n",
    "function_values = list(map(lambda x: output_at(array_squared_1, x), x_values))\n",
    "derivative_values = list(map(lambda x: derivative_at(array_squared_1, x),x_values))"
   ]
  },
  {
   "cell_type": "markdown",
   "metadata": {},
   "source": [
    "Now, let's plot $f(x)$ and $f'(x)$ side by side."
   ]
  },
  {
   "cell_type": "code",
   "execution_count": 41,
   "metadata": {},
   "outputs": [
    {
     "data": {
      "image/png": "[encoded data removed]",
      "text/plain": [
       "<Figure size 864x360 with 2 Axes>"
      ]
     },
     "metadata": {},
     "output_type": "display_data"
    }
   ],
   "source": [
    "fig, ax = plt.subplots(figsize=(12,5))\n",
    "\n",
    "# plot 1\n",
    "plt.subplot(121)\n",
    "plt.axhline(y=0, color='lightgrey', )\n",
    "plt.axvline(x=0, color='lightgrey')\n",
    "plt.plot(x_values, function_values, label = \"f (x) = 3x^2−11 \")\n",
    "\n",
    "plt.legend(loc=\"upper left\", bbox_to_anchor=[0, 1], ncol=2, fancybox=True)\n",
    "\n",
    "# plot 2\n",
    "plt.subplot(122)\n",
    "plt.axhline(y=0, color='lightgrey')\n",
    "plt.axvline(x=0, color='lightgrey')\n",
    "plt.plot(x_values, derivative_values,color=\"darkorange\", label = \"f '(x) = 6x\")\n",
    "\n",
    "ax.grid(True, which='both')\n",
    "\n",
    "plt.legend(loc=\"upper left\");"
   ]
  },
  {
   "cell_type": "markdown",
   "metadata": {},
   "source": [
    "Note that when the $x$ values of $f(x)$ are positive, the $f(x)$ begins increasing, therefore $f'(x)$ is greater than zero, which the graph on the right displays.  And the more positive the values $x$ for $f(x)$, the faster the rate of increase.  When our function $f(x)$ is negative, the function is decreasing, that is for every change in $x$, the change in $f(x)$ is negative, and therefore $f'(x)$ is negative."
   ]
  },
  {
   "cell_type": "markdown",
   "metadata": {},
   "source": [
    "## Summary\n",
    "\n",
    "In this lab, you practiced implementing the rules for derivatives with Python code using NumPy. This lab will review your understanding of the following rules:\n",
    "\n",
    "1. The power rule\n",
    "2. The constant factor rule\n",
    "3. The addition rule"
   ]
  }
 ],
 "metadata": {
  "kernelspec": {
   "display_name": "Python 3",
   "language": "python",
   "name": "python3"
  },
  "language_info": {
   "codemirror_mode": {
    "name": "ipython",
    "version": 3
   },
   "file_extension": ".py",
   "mimetype": "text/x-python",
   "name": "python",
   "nbconvert_exporter": "python",
   "pygments_lexer": "ipython3",
   "version": "3.7.0"
  }
 },
 "nbformat": 4,
 "nbformat_minor": 2
}
